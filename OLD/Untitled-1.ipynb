{
 "cells": [
  {
   "cell_type": "code",
   "execution_count": 11,
   "metadata": {},
   "outputs": [
    {
     "name": "stdout",
     "output_type": "stream",
     "text": [
      "[[ 9. 12. 15.]\n",
      " [ 7.  8.  9.]]\n"
     ]
    }
   ],
   "source": [
    "import jax\n",
    "import jax.numpy as jnp\n",
    "\n",
    "# 定义一个函数，计算两个向量的点积\n",
    "def dot_product(x, y, z):\n",
    "    return x+y+z\n",
    "\n",
    "# 定义输入\n",
    "x = jnp.array([[1.0, 2.0, 3.0], [4.0, 5.0, 6.0]])\n",
    "y = jnp.array([[7.0, 8.0, 9.0], [-1.0, -2.0, -3.0]])\n",
    "z = jnp.array([[1.0, 2.0, 3.0], [4.0, 5.0, 6.0]])\n",
    "# 使用 vmap 对两个输入批量应用 dot_product 函数\n",
    "batched_dot_product = jax.vmap(dot_product)\n",
    "\n",
    "# 计算结果\n",
    "result = batched_dot_product(x, y, z)\n",
    "print(result)\n",
    "\n"
   ]
  }
 ],
 "metadata": {
  "kernelspec": {
   "display_name": "base",
   "language": "python",
   "name": "python3"
  },
  "language_info": {
   "codemirror_mode": {
    "name": "ipython",
    "version": 3
   },
   "file_extension": ".py",
   "mimetype": "text/x-python",
   "name": "python",
   "nbconvert_exporter": "python",
   "pygments_lexer": "ipython3",
   "version": "3.11.3"
  }
 },
 "nbformat": 4,
 "nbformat_minor": 2
}
